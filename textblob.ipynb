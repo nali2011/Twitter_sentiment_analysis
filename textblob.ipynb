{
 "cells": [
  {
   "cell_type": "code",
   "execution_count": 1,
   "id": "0271af61",
   "metadata": {},
   "outputs": [
    {
     "name": "stdout",
     "output_type": "stream",
     "text": [
      "Collecting textblob\n",
      "  Downloading textblob-0.17.1-py2.py3-none-any.whl (636 kB)\n",
      "Requirement already satisfied: nltk>=3.1 in c:\\users\\haier\\anaconda3\\lib\\site-packages (from textblob) (3.7)\n",
      "Requirement already satisfied: tqdm in c:\\users\\haier\\anaconda3\\lib\\site-packages (from nltk>=3.1->textblob) (4.64.0)\n",
      "Requirement already satisfied: click in c:\\users\\haier\\anaconda3\\lib\\site-packages (from nltk>=3.1->textblob) (8.0.4)\n",
      "Requirement already satisfied: regex>=2021.8.3 in c:\\users\\haier\\anaconda3\\lib\\site-packages (from nltk>=3.1->textblob) (2022.3.15)\n",
      "Requirement already satisfied: joblib in c:\\users\\haier\\anaconda3\\lib\\site-packages (from nltk>=3.1->textblob) (1.1.0)\n",
      "Requirement already satisfied: colorama in c:\\users\\haier\\anaconda3\\lib\\site-packages (from click->nltk>=3.1->textblob) (0.4.6)\n",
      "Installing collected packages: textblob\n",
      "Successfully installed textblob-0.17.1\n"
     ]
    }
   ],
   "source": [
    "!pip install textblob "
   ]
  },
  {
   "cell_type": "code",
   "execution_count": 1,
   "id": "d8000ef9",
   "metadata": {},
   "outputs": [],
   "source": [
    "from textblob import TextBlob\n",
    "import pandas as pd"
   ]
  },
  {
   "cell_type": "code",
   "execution_count": 2,
   "id": "508e6b46",
   "metadata": {},
   "outputs": [],
   "source": [
    "cg = pd.read_csv('turkey_processed.csv', encoding = 'ISO-8859-1')"
   ]
  },
  {
   "cell_type": "code",
   "execution_count": 3,
   "id": "750a60e4",
   "metadata": {},
   "outputs": [],
   "source": [
    "#define function for subjectivity (Personal opinions [0,1])\n",
    "def getTextSubjectivity(txt):\n",
    "  return TextBlob(txt).sentiment.subjectivity"
   ]
  },
  {
   "cell_type": "code",
   "execution_count": 4,
   "id": "02693a74",
   "metadata": {},
   "outputs": [],
   "source": [
    "#define function for polarity (Actual sentiment [-1, 1])\n",
    "def getTextPolarity(txt):\n",
    "  return TextBlob(txt).sentiment.polarity"
   ]
  },
  {
   "cell_type": "code",
   "execution_count": 5,
   "id": "2eb550c8",
   "metadata": {},
   "outputs": [],
   "source": [
    "#apply both functions subjectivity and polarity to clean tweet\n",
    "cg['Subjectivity'] = cg['clean_tweet'].apply(getTextSubjectivity)\n",
    "cg['Polarity'] = cg['clean_tweet'].apply(getTextPolarity)"
   ]
  },
  {
   "cell_type": "code",
   "execution_count": 6,
   "id": "88198476",
   "metadata": {},
   "outputs": [],
   "source": [
    "#define function for polarity calculation\n",
    "def getTextAnalysis(a):\n",
    "  if a<0:\n",
    "    return \"Depressed\"\n",
    "  elif a==0:\n",
    "    return \"Neutral\"\n",
    "  else:\n",
    "    return \"Happy\""
   ]
  },
  {
   "cell_type": "code",
   "execution_count": 7,
   "id": "253a9198",
   "metadata": {},
   "outputs": [],
   "source": [
    "cg['score'] = cg['Polarity'].apply(getTextAnalysis)"
   ]
  },
  {
   "cell_type": "code",
   "execution_count": 8,
   "id": "57e79ef8",
   "metadata": {},
   "outputs": [
    {
     "data": {
      "text/html": [
       "<div>\n",
       "<style scoped>\n",
       "    .dataframe tbody tr th:only-of-type {\n",
       "        vertical-align: middle;\n",
       "    }\n",
       "\n",
       "    .dataframe tbody tr th {\n",
       "        vertical-align: top;\n",
       "    }\n",
       "\n",
       "    .dataframe thead th {\n",
       "        text-align: right;\n",
       "    }\n",
       "</style>\n",
       "<table border=\"1\" class=\"dataframe\">\n",
       "  <thead>\n",
       "    <tr style=\"text-align: right;\">\n",
       "      <th></th>\n",
       "      <th>Unnamed: 0</th>\n",
       "      <th>Date</th>\n",
       "      <th>Time</th>\n",
       "      <th>user</th>\n",
       "      <th>Tweet</th>\n",
       "      <th>clean_tweet</th>\n",
       "      <th>Subjectivity</th>\n",
       "      <th>Polarity</th>\n",
       "      <th>score</th>\n",
       "    </tr>\n",
       "  </thead>\n",
       "  <tbody>\n",
       "    <tr>\n",
       "      <th>0</th>\n",
       "      <td>0</td>\n",
       "      <td>2023-02-10 23:59:10+00:00</td>\n",
       "      <td>23:59:10</td>\n",
       "      <td>Jerusalem_Post</td>\n",
       "      <td>The situation in Kahramanmaras proved civiliza...</td>\n",
       "      <td>The situation in Kahramanmaras proved civiliza...</td>\n",
       "      <td>0.825000</td>\n",
       "      <td>0.000000</td>\n",
       "      <td>Neutral</td>\n",
       "    </tr>\n",
       "    <tr>\n",
       "      <th>1</th>\n",
       "      <td>1</td>\n",
       "      <td>2023-02-10 23:58:58+00:00</td>\n",
       "      <td>23:58:58</td>\n",
       "      <td>Punnycatapult</td>\n",
       "      <td>Please donate, like share RAISE AWARENESS THAT...</td>\n",
       "      <td>Please donate like share RAISE AWARENESS THAT ...</td>\n",
       "      <td>0.750000</td>\n",
       "      <td>0.068182</td>\n",
       "      <td>Happy</td>\n",
       "    </tr>\n",
       "    <tr>\n",
       "      <th>2</th>\n",
       "      <td>2</td>\n",
       "      <td>2023-02-10 23:58:21+00:00</td>\n",
       "      <td>23:58:21</td>\n",
       "      <td>HosenMosharraf1</td>\n",
       "      <td>Alhamdulilllah they are safe and sound Ã¢ÂÂ¤Ã...</td>\n",
       "      <td>Alhamdulilllah they are safe and sound</td>\n",
       "      <td>0.450000</td>\n",
       "      <td>0.450000</td>\n",
       "      <td>Happy</td>\n",
       "    </tr>\n",
       "    <tr>\n",
       "      <th>3</th>\n",
       "      <td>3</td>\n",
       "      <td>2023-02-10 23:58:19+00:00</td>\n",
       "      <td>23:58:19</td>\n",
       "      <td>TodaywithBenja</td>\n",
       "      <td>@patagonia @fcdsurfboards Send the best warmes...</td>\n",
       "      <td>patagonia fcdsurfboards Send the best warmest ...</td>\n",
       "      <td>0.766667</td>\n",
       "      <td>-0.133333</td>\n",
       "      <td>Depressed</td>\n",
       "    </tr>\n",
       "    <tr>\n",
       "      <th>4</th>\n",
       "      <td>4</td>\n",
       "      <td>2023-02-10 23:58:19+00:00</td>\n",
       "      <td>23:58:19</td>\n",
       "      <td>ib_mohh</td>\n",
       "      <td>Alhamdulillah ...A 10 day old baby was rescued...</td>\n",
       "      <td>Alhamdulillah A 10 day old baby was rescued al...</td>\n",
       "      <td>0.300000</td>\n",
       "      <td>0.100000</td>\n",
       "      <td>Happy</td>\n",
       "    </tr>\n",
       "  </tbody>\n",
       "</table>\n",
       "</div>"
      ],
      "text/plain": [
       "   Unnamed: 0                       Date      Time             user  \\\n",
       "0           0  2023-02-10 23:59:10+00:00  23:59:10   Jerusalem_Post   \n",
       "1           1  2023-02-10 23:58:58+00:00  23:58:58    Punnycatapult   \n",
       "2           2  2023-02-10 23:58:21+00:00  23:58:21  HosenMosharraf1   \n",
       "3           3  2023-02-10 23:58:19+00:00  23:58:19   TodaywithBenja   \n",
       "4           4  2023-02-10 23:58:19+00:00  23:58:19          ib_mohh   \n",
       "\n",
       "                                               Tweet  \\\n",
       "0  The situation in Kahramanmaras proved civiliza...   \n",
       "1  Please donate, like share RAISE AWARENESS THAT...   \n",
       "2  Alhamdulilllah they are safe and sound Ã¢ÂÂ¤Ã...   \n",
       "3  @patagonia @fcdsurfboards Send the best warmes...   \n",
       "4  Alhamdulillah ...A 10 day old baby was rescued...   \n",
       "\n",
       "                                         clean_tweet  Subjectivity  Polarity  \\\n",
       "0  The situation in Kahramanmaras proved civiliza...      0.825000  0.000000   \n",
       "1  Please donate like share RAISE AWARENESS THAT ...      0.750000  0.068182   \n",
       "2           Alhamdulilllah they are safe and sound        0.450000  0.450000   \n",
       "3  patagonia fcdsurfboards Send the best warmest ...      0.766667 -0.133333   \n",
       "4  Alhamdulillah A 10 day old baby was rescued al...      0.300000  0.100000   \n",
       "\n",
       "       score  \n",
       "0    Neutral  \n",
       "1      Happy  \n",
       "2      Happy  \n",
       "3  Depressed  \n",
       "4      Happy  "
      ]
     },
     "execution_count": 8,
     "metadata": {},
     "output_type": "execute_result"
    }
   ],
   "source": [
    "cg.head()"
   ]
  },
  {
   "cell_type": "code",
   "execution_count": 9,
   "id": "8a0abcfd",
   "metadata": {},
   "outputs": [
    {
     "data": {
      "text/html": [
       "<div>\n",
       "<style scoped>\n",
       "    .dataframe tbody tr th:only-of-type {\n",
       "        vertical-align: middle;\n",
       "    }\n",
       "\n",
       "    .dataframe tbody tr th {\n",
       "        vertical-align: top;\n",
       "    }\n",
       "\n",
       "    .dataframe thead th {\n",
       "        text-align: right;\n",
       "    }\n",
       "</style>\n",
       "<table border=\"1\" class=\"dataframe\">\n",
       "  <thead>\n",
       "    <tr style=\"text-align: right;\">\n",
       "      <th></th>\n",
       "      <th>Unnamed: 0</th>\n",
       "      <th>Date</th>\n",
       "      <th>Time</th>\n",
       "      <th>user</th>\n",
       "      <th>Tweet</th>\n",
       "      <th>clean_tweet</th>\n",
       "      <th>Subjectivity</th>\n",
       "      <th>Polarity</th>\n",
       "      <th>score</th>\n",
       "    </tr>\n",
       "  </thead>\n",
       "  <tbody>\n",
       "    <tr>\n",
       "      <th>48076</th>\n",
       "      <td>48076</td>\n",
       "      <td>2023-02-06 01:24:47+00:00</td>\n",
       "      <td>01:24:47</td>\n",
       "      <td>nicfrakesjourno</td>\n",
       "      <td>Big earthquake felt throughout #Lebanon just a...</td>\n",
       "      <td>Big earthquake felt throughout just a few mome...</td>\n",
       "      <td>0.275000</td>\n",
       "      <td>-0.066667</td>\n",
       "      <td>Depressed</td>\n",
       "    </tr>\n",
       "    <tr>\n",
       "      <th>48077</th>\n",
       "      <td>48077</td>\n",
       "      <td>2023-02-06 01:24:10+00:00</td>\n",
       "      <td>01:24:10</td>\n",
       "      <td>eliegemayel</td>\n",
       "      <td>A powerful #earthquake just hit Metn area in L...</td>\n",
       "      <td>A powerful just hit Metn area in Lebanon at 03...</td>\n",
       "      <td>0.500000</td>\n",
       "      <td>0.266667</td>\n",
       "      <td>Happy</td>\n",
       "    </tr>\n",
       "    <tr>\n",
       "      <th>48078</th>\n",
       "      <td>48078</td>\n",
       "      <td>2023-02-06 00:58:27+00:00</td>\n",
       "      <td>00:58:27</td>\n",
       "      <td>Mousacisse1</td>\n",
       "      <td>#Turkish Volunteers Train For The Ukrainian Fr...</td>\n",
       "      <td>Volunteers Train For The Ukrainian Frontlines...</td>\n",
       "      <td>0.335714</td>\n",
       "      <td>0.128571</td>\n",
       "      <td>Happy</td>\n",
       "    </tr>\n",
       "    <tr>\n",
       "      <th>48079</th>\n",
       "      <td>48079</td>\n",
       "      <td>2023-02-06 00:00:01+00:00</td>\n",
       "      <td>00:00:01</td>\n",
       "      <td>1MedyaNews</td>\n",
       "      <td>Ã°ÂÂÂThe #Turkish authorities have demanded...</td>\n",
       "      <td>The authorities have demanded the former mayor...</td>\n",
       "      <td>0.000000</td>\n",
       "      <td>0.000000</td>\n",
       "      <td>Neutral</td>\n",
       "    </tr>\n",
       "    <tr>\n",
       "      <th>48080</th>\n",
       "      <td>48080</td>\n",
       "      <td>2023-02-06 00:00:00+00:00</td>\n",
       "      <td>00:00:00</td>\n",
       "      <td>medyanews_</td>\n",
       "      <td>Ã°ÂÂÂThe #Turkish authorities have demanded...</td>\n",
       "      <td>The authorities have demanded the former mayor...</td>\n",
       "      <td>0.000000</td>\n",
       "      <td>0.000000</td>\n",
       "      <td>Neutral</td>\n",
       "    </tr>\n",
       "  </tbody>\n",
       "</table>\n",
       "</div>"
      ],
      "text/plain": [
       "       Unnamed: 0                       Date      Time             user  \\\n",
       "48076       48076  2023-02-06 01:24:47+00:00  01:24:47  nicfrakesjourno   \n",
       "48077       48077  2023-02-06 01:24:10+00:00  01:24:10      eliegemayel   \n",
       "48078       48078  2023-02-06 00:58:27+00:00  00:58:27      Mousacisse1   \n",
       "48079       48079  2023-02-06 00:00:01+00:00  00:00:01       1MedyaNews   \n",
       "48080       48080  2023-02-06 00:00:00+00:00  00:00:00       medyanews_   \n",
       "\n",
       "                                                   Tweet  \\\n",
       "48076  Big earthquake felt throughout #Lebanon just a...   \n",
       "48077  A powerful #earthquake just hit Metn area in L...   \n",
       "48078  #Turkish Volunteers Train For The Ukrainian Fr...   \n",
       "48079  Ã°ÂÂÂThe #Turkish authorities have demanded...   \n",
       "48080  Ã°ÂÂÂThe #Turkish authorities have demanded...   \n",
       "\n",
       "                                             clean_tweet  Subjectivity  \\\n",
       "48076  Big earthquake felt throughout just a few mome...      0.275000   \n",
       "48077  A powerful just hit Metn area in Lebanon at 03...      0.500000   \n",
       "48078   Volunteers Train For The Ukrainian Frontlines...      0.335714   \n",
       "48079  The authorities have demanded the former mayor...      0.000000   \n",
       "48080  The authorities have demanded the former mayor...      0.000000   \n",
       "\n",
       "       Polarity      score  \n",
       "48076 -0.066667  Depressed  \n",
       "48077  0.266667      Happy  \n",
       "48078  0.128571      Happy  \n",
       "48079  0.000000    Neutral  \n",
       "48080  0.000000    Neutral  "
      ]
     },
     "execution_count": 9,
     "metadata": {},
     "output_type": "execute_result"
    }
   ],
   "source": [
    "cg.tail()"
   ]
  },
  {
   "cell_type": "code",
   "execution_count": 12,
   "id": "fbb098d9",
   "metadata": {},
   "outputs": [],
   "source": [
    "import matplotlib.pyplot as plt"
   ]
  },
  {
   "cell_type": "code",
   "execution_count": 17,
   "id": "940ae25a",
   "metadata": {},
   "outputs": [
    {
     "name": "stdout",
     "output_type": "stream",
     "text": [
      "33.80337347392941 % Happy Tweets\n"
     ]
    }
   ],
   "source": [
    "#calculating percentage of happy tweets \n",
    "happy=cg[cg['score']==\"Happy\"]\n",
    "print(str(happy.shape[0]/(cg.shape[0])*100)+\" % Happy Tweets\")\n",
    "Happy=happy.shape[0]/cg.shape[0]*100"
   ]
  },
  {
   "cell_type": "code",
   "execution_count": 18,
   "id": "b4189442",
   "metadata": {},
   "outputs": [
    {
     "name": "stdout",
     "output_type": "stream",
     "text": [
      "43.87179967138787 % Neutral Tweets\n"
     ]
    }
   ],
   "source": [
    "#calculating percentage of neutral tweets\n",
    "neutral=cg[cg['score']==\"Neutral\"]\n",
    "print(str(neutral.shape[0]/(cg.shape[0])*100)+\" % Neutral Tweets\")\n",
    "Neutral=neutral.shape[0]/cg.shape[0]*100"
   ]
  },
  {
   "cell_type": "code",
   "execution_count": 19,
   "id": "a77083da",
   "metadata": {},
   "outputs": [
    {
     "name": "stdout",
     "output_type": "stream",
     "text": [
      "22.324826854682723 % Depressed Tweets\n"
     ]
    }
   ],
   "source": [
    "#calculating percentage of depressed tweets\n",
    "depressed=cg[cg['score']==\"Depressed\"]\n",
    "print(str(depressed.shape[0]/(cg.shape[0])*100)+\" % Depressed Tweets\")\n",
    "Depressed=depressed.shape[0]/cg.shape[0]*100"
   ]
  },
  {
   "cell_type": "code",
   "execution_count": 20,
   "id": "675a8f6f",
   "metadata": {},
   "outputs": [
    {
     "data": {
      "image/png": "[encoded data removed]",
      "text/plain": [
       "<Figure size 720x720 with 1 Axes>"
      ]
     },
     "metadata": {},
     "output_type": "display_data"
    }
   ],
   "source": [
    "# Pie chart\n",
    "\n",
    "labels = ['Happy', 'Neutral', 'Depressed']\n",
    "sizes = [Happy, Neutral, Depressed]\n",
    "colors = ['#ff9999','#66b3ff','#99ff99']\n",
    "explode = (0, 0, 0.1)  # only \"explode\" the 3rd slice \n",
    "\n",
    "fig1, ax1 = plt.subplots(figsize=(10, 10))\n",
    "ax1.pie(sizes, explode=explode, labels=labels, colors=colors, autopct='%1.1f%%', \n",
    "        shadow=True, startangle=0)\n",
    "ax1.axis('equal')\n",
    "plt.xlabel(\"Sentiments\")\n",
    "#plt.ylabel(\"Percentage\")\n",
    "plt.title(\"Sentiment Analysis on Turkey Earthquake\", fontweight='bold')\n",
    "plt.legend(title='Sentiment', labels=labels, loc=\"upper left\", bbox_to_anchor=(1,1), fontsize=12)\n",
    "plt.show()"
   ]
  },
  {
   "cell_type": "code",
   "execution_count": 21,
   "id": "c5738956",
   "metadata": {},
   "outputs": [
    {
     "data": {
      "text/plain": [
       "<BarContainer object of 3 artists>"
      ]
     },
     "execution_count": 21,
     "metadata": {},
     "output_type": "execute_result"
    },
    {
     "data": {
      "image/png": "[encoded data removed]",
      "text/plain": [
       "<Figure size 432x288 with 1 Axes>"
      ]
     },
     "metadata": {
      "needs_background": "light"
     },
     "output_type": "display_data"
    }
   ],
   "source": [
    "#bar chart\n",
    "labels = cg.groupby('score').count().index.values\n",
    "values = cg.groupby('score').size().values\n",
    "plt.bar(labels,values)"
   ]
  },
  {
   "cell_type": "code",
   "execution_count": 22,
   "id": "899dfb24",
   "metadata": {},
   "outputs": [],
   "source": [
    "#performance evaluation\n",
    "from sklearn.model_selection import train_test_split"
   ]
  },
  {
   "cell_type": "code",
   "execution_count": 24,
   "id": "79b0ba35",
   "metadata": {},
   "outputs": [],
   "source": [
    "train_data , test_data = train_test_split(cg, test_size=0.3, random_state= 42)"
   ]
  },
  {
   "cell_type": "code",
   "execution_count": 25,
   "id": "01f4503d",
   "metadata": {},
   "outputs": [],
   "source": [
    "test_data['predicted'] = test_data['Polarity'].apply(getTextAnalysis)"
   ]
  },
  {
   "cell_type": "code",
   "execution_count": 26,
   "id": "fca374f2",
   "metadata": {},
   "outputs": [
    {
     "name": "stdout",
     "output_type": "stream",
     "text": [
      "Accuracy: 1.0\n"
     ]
    }
   ],
   "source": [
    "from sklearn.metrics import accuracy_score\n",
    "score = accuracy_score(test_data['score'], test_data['predicted'])\n",
    "print(\"Accuracy:\" , score)"
   ]
  },
  {
   "cell_type": "code",
   "execution_count": null,
   "id": "594bc523",
   "metadata": {},
   "outputs": [],
   "source": []
  }
 ],
 "metadata": {
  "kernelspec": {
   "display_name": "Python 3 (ipykernel)",
   "language": "python",
   "name": "python3"
  },
  "language_info": {
   "codemirror_mode": {
    "name": "ipython",
    "version": 3
   },
   "file_extension": ".py",
   "mimetype": "text/x-python",
   "name": "python",
   "nbconvert_exporter": "python",
   "pygments_lexer": "ipython3",
   "version": "3.9.12"
  }
 },
 "nbformat": 4,
 "nbformat_minor": 5
}

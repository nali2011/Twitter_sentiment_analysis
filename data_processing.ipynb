{
 "cells": [
  {
   "cell_type": "code",
   "execution_count": 1,
   "id": "0966ac15",
   "metadata": {},
   "outputs": [
    {
     "name": "stdout",
     "output_type": "stream",
     "text": [
      "Requirement already satisfied: matplotlib in c:\\users\\haier\\anaconda3\\lib\\site-packages (3.5.1)\n",
      "Requirement already satisfied: fonttools>=4.22.0 in c:\\users\\haier\\anaconda3\\lib\\site-packages (from matplotlib) (4.25.0)\n",
      "Requirement already satisfied: python-dateutil>=2.7 in c:\\users\\haier\\anaconda3\\lib\\site-packages (from matplotlib) (2.8.2)\n",
      "Requirement already satisfied: kiwisolver>=1.0.1 in c:\\users\\haier\\anaconda3\\lib\\site-packages (from matplotlib) (1.3.2)\n",
      "Requirement already satisfied: packaging>=20.0 in c:\\users\\haier\\anaconda3\\lib\\site-packages (from matplotlib) (21.3)\n",
      "Requirement already satisfied: numpy>=1.17 in c:\\users\\haier\\anaconda3\\lib\\site-packages (from matplotlib) (1.21.5)\n",
      "Requirement already satisfied: pyparsing>=2.2.1 in c:\\users\\haier\\anaconda3\\lib\\site-packages (from matplotlib) (3.0.4)\n",
      "Requirement already satisfied: pillow>=6.2.0 in c:\\users\\haier\\anaconda3\\lib\\site-packages (from matplotlib) (9.0.1)\n",
      "Requirement already satisfied: cycler>=0.10 in c:\\users\\haier\\anaconda3\\lib\\site-packages (from matplotlib) (0.11.0)\n",
      "Requirement already satisfied: six>=1.5 in c:\\users\\haier\\anaconda3\\lib\\site-packages (from python-dateutil>=2.7->matplotlib) (1.16.0)\n"
     ]
    }
   ],
   "source": [
    "!pip install matplotlib"
   ]
  },
  {
   "cell_type": "code",
   "execution_count": 2,
   "id": "2c1d42c6",
   "metadata": {},
   "outputs": [
    {
     "name": "stdout",
     "output_type": "stream",
     "text": [
      "Requirement already satisfied: numpy in c:\\users\\haier\\anaconda3\\lib\\site-packages (1.21.5)\n"
     ]
    }
   ],
   "source": [
    "!pip install numpy"
   ]
  },
  {
   "cell_type": "code",
   "execution_count": 1,
   "id": "be7ed03a",
   "metadata": {},
   "outputs": [],
   "source": [
    "import pandas as pd\n",
    "import matplotlib as plt\n",
    "import numpy as np"
   ]
  },
  {
   "cell_type": "code",
   "execution_count": 2,
   "id": "37c39965",
   "metadata": {},
   "outputs": [],
   "source": [
    "cg = pd.read_csv('turkey.csv', encoding = 'ISO-8859-1')"
   ]
  },
  {
   "cell_type": "code",
   "execution_count": 3,
   "id": "b9e90865",
   "metadata": {},
   "outputs": [
    {
     "data": {
      "text/plain": [
       "Unnamed: 0    0\n",
       "Date          2\n",
       "Time          2\n",
       "user          2\n",
       "Tweet         2\n",
       "dtype: int64"
      ]
     },
     "execution_count": 3,
     "metadata": {},
     "output_type": "execute_result"
    }
   ],
   "source": [
    "cg.isnull().sum()"
   ]
  },
  {
   "cell_type": "code",
   "execution_count": 4,
   "id": "4d33edc1",
   "metadata": {},
   "outputs": [],
   "source": [
    "cg = cg.dropna()"
   ]
  },
  {
   "cell_type": "code",
   "execution_count": 5,
   "id": "402e17a0",
   "metadata": {},
   "outputs": [
    {
     "name": "stdout",
     "output_type": "stream",
     "text": [
      "Requirement already satisfied: neattext in c:\\users\\haier\\anaconda3\\lib\\site-packages (0.1.3)\n"
     ]
    }
   ],
   "source": [
    "!pip install neattext"
   ]
  },
  {
   "cell_type": "code",
   "execution_count": 7,
   "id": "fee4f49a",
   "metadata": {},
   "outputs": [],
   "source": [
    "import neattext.functions as nfx"
   ]
  },
  {
   "cell_type": "code",
   "execution_count": 8,
   "id": "0dd5e57f",
   "metadata": {},
   "outputs": [],
   "source": [
    "cg['clean_tweet']= cg['Tweet'].apply(nfx.remove_hashtags)"
   ]
  },
  {
   "cell_type": "code",
   "execution_count": 9,
   "id": "71cb9602",
   "metadata": {},
   "outputs": [],
   "source": [
    "cg['clean_tweet'] = cg['clean_tweet'].apply(nfx.remove_multiple_spaces)"
   ]
  },
  {
   "cell_type": "code",
   "execution_count": 10,
   "id": "3df20339",
   "metadata": {},
   "outputs": [],
   "source": [
    "cg['clean_tweet'] = cg['clean_tweet'].apply(nfx.remove_urls)"
   ]
  },
  {
   "cell_type": "code",
   "execution_count": 11,
   "id": "8065e1b2",
   "metadata": {},
   "outputs": [],
   "source": [
    "cg['clean_tweet'] = cg['clean_tweet'].apply(nfx.remove_puncts)"
   ]
  },
  {
   "cell_type": "code",
   "execution_count": 12,
   "id": "b593657b",
   "metadata": {},
   "outputs": [],
   "source": [
    "cg['clean_tweet'] = cg['clean_tweet'].apply(nfx.remove_special_characters)"
   ]
  },
  {
   "cell_type": "code",
   "execution_count": 13,
   "id": "a789a77e",
   "metadata": {},
   "outputs": [
    {
     "data": {
      "text/plain": [
       "Unnamed: 0     0\n",
       "Date           0\n",
       "Time           0\n",
       "user           0\n",
       "Tweet          0\n",
       "clean_tweet    0\n",
       "dtype: int64"
      ]
     },
     "execution_count": 13,
     "metadata": {},
     "output_type": "execute_result"
    }
   ],
   "source": [
    "cg.isnull().sum()"
   ]
  },
  {
   "cell_type": "code",
   "execution_count": 14,
   "id": "2ab323fa",
   "metadata": {},
   "outputs": [
    {
     "data": {
      "text/html": [
       "<div>\n",
       "<style scoped>\n",
       "    .dataframe tbody tr th:only-of-type {\n",
       "        vertical-align: middle;\n",
       "    }\n",
       "\n",
       "    .dataframe tbody tr th {\n",
       "        vertical-align: top;\n",
       "    }\n",
       "\n",
       "    .dataframe thead th {\n",
       "        text-align: right;\n",
       "    }\n",
       "</style>\n",
       "<table border=\"1\" class=\"dataframe\">\n",
       "  <thead>\n",
       "    <tr style=\"text-align: right;\">\n",
       "      <th></th>\n",
       "      <th>Tweet</th>\n",
       "      <th>clean_tweet</th>\n",
       "    </tr>\n",
       "  </thead>\n",
       "  <tbody>\n",
       "    <tr>\n",
       "      <th>0</th>\n",
       "      <td>The situation in Kahramanmaras proved civiliza...</td>\n",
       "      <td>The situation in Kahramanmaras proved civiliza...</td>\n",
       "    </tr>\n",
       "    <tr>\n",
       "      <th>1</th>\n",
       "      <td>Please donate, like share RAISE AWARENESS THAT...</td>\n",
       "      <td>Please donate like share RAISE AWARENESS THAT ...</td>\n",
       "    </tr>\n",
       "    <tr>\n",
       "      <th>2</th>\n",
       "      <td>Alhamdulilllah they are safe and sound â¤ï¸ ...</td>\n",
       "      <td>Alhamdulilllah they are safe and sound</td>\n",
       "    </tr>\n",
       "    <tr>\n",
       "      <th>3</th>\n",
       "      <td>@patagonia @fcdsurfboards Send the best warmes...</td>\n",
       "      <td>patagonia fcdsurfboards Send the best warmest ...</td>\n",
       "    </tr>\n",
       "    <tr>\n",
       "      <th>4</th>\n",
       "      <td>Alhamdulillah ...A 10 day old baby was rescued...</td>\n",
       "      <td>Alhamdulillah A 10 day old baby was rescued al...</td>\n",
       "    </tr>\n",
       "    <tr>\n",
       "      <th>...</th>\n",
       "      <td>...</td>\n",
       "      <td>...</td>\n",
       "    </tr>\n",
       "    <tr>\n",
       "      <th>48078</th>\n",
       "      <td>Big earthquake felt throughout #Lebanon just a...</td>\n",
       "      <td>Big earthquake felt throughout just a few mome...</td>\n",
       "    </tr>\n",
       "    <tr>\n",
       "      <th>48079</th>\n",
       "      <td>A powerful #earthquake just hit Metn area in L...</td>\n",
       "      <td>A powerful just hit Metn area in Lebanon at 03...</td>\n",
       "    </tr>\n",
       "    <tr>\n",
       "      <th>48080</th>\n",
       "      <td>#Turkish Volunteers Train For The Ukrainian Fr...</td>\n",
       "      <td>Volunteers Train For The Ukrainian Frontlines...</td>\n",
       "    </tr>\n",
       "    <tr>\n",
       "      <th>48081</th>\n",
       "      <td>ðThe #Turkish authorities have demanded the...</td>\n",
       "      <td>The authorities have demanded the former mayor...</td>\n",
       "    </tr>\n",
       "    <tr>\n",
       "      <th>48082</th>\n",
       "      <td>ðThe #Turkish authorities have demanded the...</td>\n",
       "      <td>The authorities have demanded the former mayor...</td>\n",
       "    </tr>\n",
       "  </tbody>\n",
       "</table>\n",
       "<p>48081 rows × 2 columns</p>\n",
       "</div>"
      ],
      "text/plain": [
       "                                                   Tweet  \\\n",
       "0      The situation in Kahramanmaras proved civiliza...   \n",
       "1      Please donate, like share RAISE AWARENESS THAT...   \n",
       "2      Alhamdulilllah they are safe and sound â¤ï¸ ...   \n",
       "3      @patagonia @fcdsurfboards Send the best warmes...   \n",
       "4      Alhamdulillah ...A 10 day old baby was rescued...   \n",
       "...                                                  ...   \n",
       "48078  Big earthquake felt throughout #Lebanon just a...   \n",
       "48079  A powerful #earthquake just hit Metn area in L...   \n",
       "48080  #Turkish Volunteers Train For The Ukrainian Fr...   \n",
       "48081  ðThe #Turkish authorities have demanded the...   \n",
       "48082  ðThe #Turkish authorities have demanded the...   \n",
       "\n",
       "                                             clean_tweet  \n",
       "0      The situation in Kahramanmaras proved civiliza...  \n",
       "1      Please donate like share RAISE AWARENESS THAT ...  \n",
       "2               Alhamdulilllah they are safe and sound    \n",
       "3      patagonia fcdsurfboards Send the best warmest ...  \n",
       "4      Alhamdulillah A 10 day old baby was rescued al...  \n",
       "...                                                  ...  \n",
       "48078  Big earthquake felt throughout just a few mome...  \n",
       "48079  A powerful just hit Metn area in Lebanon at 03...  \n",
       "48080   Volunteers Train For The Ukrainian Frontlines...  \n",
       "48081  The authorities have demanded the former mayor...  \n",
       "48082  The authorities have demanded the former mayor...  \n",
       "\n",
       "[48081 rows x 2 columns]"
      ]
     },
     "execution_count": 14,
     "metadata": {},
     "output_type": "execute_result"
    }
   ],
   "source": [
    "cg[['Tweet','clean_tweet']]"
   ]
  },
  {
   "cell_type": "code",
   "execution_count": 15,
   "id": "59bc700b",
   "metadata": {},
   "outputs": [],
   "source": [
    "cg.to_csv(\"turkey_processed.csv\", index=False)"
   ]
  },
  {
   "cell_type": "code",
   "execution_count": null,
   "id": "1e06cca0",
   "metadata": {},
   "outputs": [],
   "source": []
  }
 ],
 "metadata": {
  "kernelspec": {
   "display_name": "Python 3 (ipykernel)",
   "language": "python",
   "name": "python3"
  },
  "language_info": {
   "codemirror_mode": {
    "name": "ipython",
    "version": 3
   },
   "file_extension": ".py",
   "mimetype": "text/x-python",
   "name": "python",
   "nbconvert_exporter": "python",
   "pygments_lexer": "ipython3",
   "version": "3.9.12"
  }
 },
 "nbformat": 4,
 "nbformat_minor": 5
}

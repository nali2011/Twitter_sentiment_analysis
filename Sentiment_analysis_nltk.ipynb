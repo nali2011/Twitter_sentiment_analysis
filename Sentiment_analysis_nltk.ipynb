{
  "nbformat": 4,
  "nbformat_minor": 0,
  "metadata": {
    "colab": {
      "provenance": []
    },
    "kernelspec": {
      "name": "python3",
      "display_name": "Python 3"
    },
    "language_info": {
      "name": "python"
    }
  },
  "cells": [
    {
      "cell_type": "code",
      "execution_count": null,
      "metadata": {
        "id": "_vQBlKe2T2dv"
      },
      "outputs": [],
      "source": [
        "import nltk"
      ]
    },
    {
      "cell_type": "code",
      "source": [
        "import pandas as pd\n",
        "import matplotlib.pyplot as plt"
      ],
      "metadata": {
        "id": "ewS-eOVKVytY"
      },
      "execution_count": null,
      "outputs": []
    },
    {
      "cell_type": "code",
      "source": [
        "#download nltk library Valence Aware Dictionary and sEntiment Reasoner\n",
        "nltk.download('vader_lexicon')"
      ],
      "metadata": {
        "colab": {
          "base_uri": "https://localhost:8080/"
        },
        "id": "E8IzgTUjUBW5",
        "outputId": "89a49622-702d-466c-cacd-7c92451a391a"
      },
      "execution_count": null,
      "outputs": [
        {
          "output_type": "stream",
          "name": "stderr",
          "text": [
            "[nltk_data] Downloading package vader_lexicon to /root/nltk_data...\n"
          ]
        },
        {
          "output_type": "execute_result",
          "data": {
            "text/plain": [
              "True"
            ]
          },
          "metadata": {},
          "execution_count": 2
        }
      ]
    },
    {
      "cell_type": "code",
      "source": [
        "from nltk.sentiment.vader import SentimentIntensityAnalyzer"
      ],
      "metadata": {
        "id": "yKcbKy56UZrO"
      },
      "execution_count": null,
      "outputs": []
    },
    {
      "cell_type": "code",
      "source": [
        "#create function for getting sentiment from each tweet\n",
        "def get_emotion(text):\n",
        "    sid = SentimentIntensityAnalyzer() #create instance for sentimentintensityanalyzer\n",
        "    score = sid.polarity_scores(text)  #calculate polarity for each tweet and store these values in compound (pos,neg,neu)\n",
        "    if score['compound'] >= 0.5:\n",
        "        return 'joyful'\n",
        "    elif score['compound'] > 0:\n",
        "        return 'happy'\n",
        "    elif score['compound'] == 0:\n",
        "        return 'neutral'\n",
        "    elif score['compound'] > -0.5:\n",
        "        return 'sad'\n",
        "    else:\n",
        "        return 'angry'"
      ],
      "metadata": {
        "id": "FUjAhocRUenJ"
      },
      "execution_count": null,
      "outputs": []
    },
    {
      "cell_type": "code",
      "source": [
        "from google.colab import files\n",
        "upload = files.upload()"
      ],
      "metadata": {
        "colab": {
          "base_uri": "https://localhost:8080/",
          "height": 73
        },
        "id": "NcP7ABkWUy2-",
        "outputId": "b071e649-9272-4ddb-dc2d-6ccb896e136f"
      },
      "execution_count": null,
      "outputs": [
        {
          "output_type": "display_data",
          "data": {
            "text/plain": [
              "<IPython.core.display.HTML object>"
            ],
            "text/html": [
              "\n",
              "     <input type=\"file\" id=\"files-2b53139a-2db8-408c-9fef-376f0d7b15be\" name=\"files[]\" multiple disabled\n",
              "        style=\"border:none\" />\n",
              "     <output id=\"result-2b53139a-2db8-408c-9fef-376f0d7b15be\">\n",
              "      Upload widget is only available when the cell has been executed in the\n",
              "      current browser session. Please rerun this cell to enable.\n",
              "      </output>\n",
              "      <script>// Copyright 2017 Google LLC\n",
              "//\n",
              "// Licensed under the Apache License, Version 2.0 (the \"License\");\n",
              "// you may not use this file except in compliance with the License.\n",
              "// You may obtain a copy of the License at\n",
              "//\n",
              "//      http://www.apache.org/licenses/LICENSE-2.0\n",
              "//\n",
              "// Unless required by applicable law or agreed to in writing, software\n",
              "// distributed under the License is distributed on an \"AS IS\" BASIS,\n",
              "// WITHOUT WARRANTIES OR CONDITIONS OF ANY KIND, either express or implied.\n",
              "// See the License for the specific language governing permissions and\n",
              "// limitations under the License.\n",
              "\n",
              "/**\n",
              " * @fileoverview Helpers for google.colab Python module.\n",
              " */\n",
              "(function(scope) {\n",
              "function span(text, styleAttributes = {}) {\n",
              "  const element = document.createElement('span');\n",
              "  element.textContent = text;\n",
              "  for (const key of Object.keys(styleAttributes)) {\n",
              "    element.style[key] = styleAttributes[key];\n",
              "  }\n",
              "  return element;\n",
              "}\n",
              "\n",
              "// Max number of bytes which will be uploaded at a time.\n",
              "const MAX_PAYLOAD_SIZE = 100 * 1024;\n",
              "\n",
              "function _uploadFiles(inputId, outputId) {\n",
              "  const steps = uploadFilesStep(inputId, outputId);\n",
              "  const outputElement = document.getElementById(outputId);\n",
              "  // Cache steps on the outputElement to make it available for the next call\n",
              "  // to uploadFilesContinue from Python.\n",
              "  outputElement.steps = steps;\n",
              "\n",
              "  return _uploadFilesContinue(outputId);\n",
              "}\n",
              "\n",
              "// This is roughly an async generator (not supported in the browser yet),\n",
              "// where there are multiple asynchronous steps and the Python side is going\n",
              "// to poll for completion of each step.\n",
              "// This uses a Promise to block the python side on completion of each step,\n",
              "// then passes the result of the previous step as the input to the next step.\n",
              "function _uploadFilesContinue(outputId) {\n",
              "  const outputElement = document.getElementById(outputId);\n",
              "  const steps = outputElement.steps;\n",
              "\n",
              "  const next = steps.next(outputElement.lastPromiseValue);\n",
              "  return Promise.resolve(next.value.promise).then((value) => {\n",
              "    // Cache the last promise value to make it available to the next\n",
              "    // step of the generator.\n",
              "    outputElement.lastPromiseValue = value;\n",
              "    return next.value.response;\n",
              "  });\n",
              "}\n",
              "\n",
              "/**\n",
              " * Generator function which is called between each async step of the upload\n",
              " * process.\n",
              " * @param {string} inputId Element ID of the input file picker element.\n",
              " * @param {string} outputId Element ID of the output display.\n",
              " * @return {!Iterable<!Object>} Iterable of next steps.\n",
              " */\n",
              "function* uploadFilesStep(inputId, outputId) {\n",
              "  const inputElement = document.getElementById(inputId);\n",
              "  inputElement.disabled = false;\n",
              "\n",
              "  const outputElement = document.getElementById(outputId);\n",
              "  outputElement.innerHTML = '';\n",
              "\n",
              "  const pickedPromise = new Promise((resolve) => {\n",
              "    inputElement.addEventListener('change', (e) => {\n",
              "      resolve(e.target.files);\n",
              "    });\n",
              "  });\n",
              "\n",
              "  const cancel = document.createElement('button');\n",
              "  inputElement.parentElement.appendChild(cancel);\n",
              "  cancel.textContent = 'Cancel upload';\n",
              "  const cancelPromise = new Promise((resolve) => {\n",
              "    cancel.onclick = () => {\n",
              "      resolve(null);\n",
              "    };\n",
              "  });\n",
              "\n",
              "  // Wait for the user to pick the files.\n",
              "  const files = yield {\n",
              "    promise: Promise.race([pickedPromise, cancelPromise]),\n",
              "    response: {\n",
              "      action: 'starting',\n",
              "    }\n",
              "  };\n",
              "\n",
              "  cancel.remove();\n",
              "\n",
              "  // Disable the input element since further picks are not allowed.\n",
              "  inputElement.disabled = true;\n",
              "\n",
              "  if (!files) {\n",
              "    return {\n",
              "      response: {\n",
              "        action: 'complete',\n",
              "      }\n",
              "    };\n",
              "  }\n",
              "\n",
              "  for (const file of files) {\n",
              "    const li = document.createElement('li');\n",
              "    li.append(span(file.name, {fontWeight: 'bold'}));\n",
              "    li.append(span(\n",
              "        `(${file.type || 'n/a'}) - ${file.size} bytes, ` +\n",
              "        `last modified: ${\n",
              "            file.lastModifiedDate ? file.lastModifiedDate.toLocaleDateString() :\n",
              "                                    'n/a'} - `));\n",
              "    const percent = span('0% done');\n",
              "    li.appendChild(percent);\n",
              "\n",
              "    outputElement.appendChild(li);\n",
              "\n",
              "    const fileDataPromise = new Promise((resolve) => {\n",
              "      const reader = new FileReader();\n",
              "      reader.onload = (e) => {\n",
              "        resolve(e.target.result);\n",
              "      };\n",
              "      reader.readAsArrayBuffer(file);\n",
              "    });\n",
              "    // Wait for the data to be ready.\n",
              "    let fileData = yield {\n",
              "      promise: fileDataPromise,\n",
              "      response: {\n",
              "        action: 'continue',\n",
              "      }\n",
              "    };\n",
              "\n",
              "    // Use a chunked sending to avoid message size limits. See b/62115660.\n",
              "    let position = 0;\n",
              "    do {\n",
              "      const length = Math.min(fileData.byteLength - position, MAX_PAYLOAD_SIZE);\n",
              "      const chunk = new Uint8Array(fileData, position, length);\n",
              "      position += length;\n",
              "\n",
              "      const base64 = btoa(String.fromCharCode.apply(null, chunk));\n",
              "      yield {\n",
              "        response: {\n",
              "          action: 'append',\n",
              "          file: file.name,\n",
              "          data: base64,\n",
              "        },\n",
              "      };\n",
              "\n",
              "      let percentDone = fileData.byteLength === 0 ?\n",
              "          100 :\n",
              "          Math.round((position / fileData.byteLength) * 100);\n",
              "      percent.textContent = `${percentDone}% done`;\n",
              "\n",
              "    } while (position < fileData.byteLength);\n",
              "  }\n",
              "\n",
              "  // All done.\n",
              "  yield {\n",
              "    response: {\n",
              "      action: 'complete',\n",
              "    }\n",
              "  };\n",
              "}\n",
              "\n",
              "scope.google = scope.google || {};\n",
              "scope.google.colab = scope.google.colab || {};\n",
              "scope.google.colab._files = {\n",
              "  _uploadFiles,\n",
              "  _uploadFilesContinue,\n",
              "};\n",
              "})(self);\n",
              "</script> "
            ]
          },
          "metadata": {}
        },
        {
          "output_type": "stream",
          "name": "stdout",
          "text": [
            "Saving turkey.csv to turkey.csv\n"
          ]
        }
      ]
    },
    {
      "cell_type": "code",
      "source": [
        "turkey = pd.read_csv('turkey.csv', encoding = 'ISO-8859-1')"
      ],
      "metadata": {
        "id": "LEEedXROVoCe"
      },
      "execution_count": null,
      "outputs": []
    },
    {
      "cell_type": "code",
      "source": [
        "turkey.isnull().sum()"
      ],
      "metadata": {
        "colab": {
          "base_uri": "https://localhost:8080/"
        },
        "id": "LBZzyjqYVrJO",
        "outputId": "8ee8612b-37de-4c1f-e271-1e917195f6bc"
      },
      "execution_count": null,
      "outputs": [
        {
          "output_type": "execute_result",
          "data": {
            "text/plain": [
              "Unnamed: 0    0\n",
              "Date          2\n",
              "Time          2\n",
              "user          2\n",
              "Tweet         2\n",
              "dtype: int64"
            ]
          },
          "metadata": {},
          "execution_count": 10
        }
      ]
    },
    {
      "cell_type": "code",
      "source": [
        "pip install neattext"
      ],
      "metadata": {
        "colab": {
          "base_uri": "https://localhost:8080/"
        },
        "id": "LAsPcWrBWLgJ",
        "outputId": "4fbb3fef-0d8f-4025-9e4a-c07e43dc6dfa"
      },
      "execution_count": null,
      "outputs": [
        {
          "output_type": "stream",
          "name": "stdout",
          "text": [
            "Looking in indexes: https://pypi.org/simple, https://us-python.pkg.dev/colab-wheels/public/simple/\n",
            "Collecting neattext\n",
            "  Downloading neattext-0.1.3-py3-none-any.whl (114 kB)\n",
            "\u001b[?25l     \u001b[90m━━━━━━━━━━━━━━━━━━━━━━━━━━━━━━━━━━━━━━━━\u001b[0m \u001b[32m0.0/114.7 KB\u001b[0m \u001b[31m?\u001b[0m eta \u001b[36m-:--:--\u001b[0m\r\u001b[2K     \u001b[90m━━━━━━━━━━━━━━━━━━━━━━━━━━━━━━━━━━━━━━━\u001b[0m \u001b[32m114.7/114.7 KB\u001b[0m \u001b[31m3.5 MB/s\u001b[0m eta \u001b[36m0:00:00\u001b[0m\n",
            "\u001b[?25hInstalling collected packages: neattext\n",
            "Successfully installed neattext-0.1.3\n"
          ]
        }
      ]
    },
    {
      "cell_type": "code",
      "source": [
        "turkey = turkey.dropna()"
      ],
      "metadata": {
        "id": "DqfDNb6DWTb9"
      },
      "execution_count": null,
      "outputs": []
    },
    {
      "cell_type": "code",
      "source": [
        "import neattext.functions as nfx"
      ],
      "metadata": {
        "id": "qtj9G7FdWZxS"
      },
      "execution_count": null,
      "outputs": []
    },
    {
      "cell_type": "code",
      "source": [
        "turkey['Tweet']"
      ],
      "metadata": {
        "colab": {
          "base_uri": "https://localhost:8080/"
        },
        "id": "JuIZ6FpkWens",
        "outputId": "71d203bc-190c-434a-8a61-c096d00ac28e"
      },
      "execution_count": null,
      "outputs": [
        {
          "output_type": "execute_result",
          "data": {
            "text/plain": [
              "0        The situation in Kahramanmaras proved civiliza...\n",
              "1        Please donate, like share RAISE AWARENESS THAT...\n",
              "2        Alhamdulilllah they are safe and sound â¤ï¸ ...\n",
              "3        @patagonia @fcdsurfboards Send the best warmes...\n",
              "4        Alhamdulillah ...A 10 day old baby was rescued...\n",
              "                               ...                        \n",
              "48078    Big earthquake felt throughout #Lebanon just a...\n",
              "48079    A powerful #earthquake just hit Metn area in L...\n",
              "48080    #Turkish Volunteers Train For The Ukrainian Fr...\n",
              "48081    ðThe #Turkish authorities have demanded the...\n",
              "48082    ðThe #Turkish authorities have demanded the...\n",
              "Name: Tweet, Length: 48081, dtype: object"
            ]
          },
          "metadata": {},
          "execution_count": 14
        }
      ]
    },
    {
      "cell_type": "code",
      "source": [
        "turkey['extracted_hashtags']=turkey['Tweet'].apply(nfx.extract_hashtags)"
      ],
      "metadata": {
        "id": "wHPgGOxRWkbJ"
      },
      "execution_count": null,
      "outputs": []
    },
    {
      "cell_type": "code",
      "source": [
        "turkey['clean_tweet']=turkey['Tweet'].apply(nfx.remove_hashtags)"
      ],
      "metadata": {
        "id": "O3uSWoWLWqE3"
      },
      "execution_count": null,
      "outputs": []
    },
    {
      "cell_type": "code",
      "source": [
        "turkey['clean_tweet']"
      ],
      "metadata": {
        "colab": {
          "base_uri": "https://localhost:8080/"
        },
        "id": "sP8j6--hWweI",
        "outputId": "17aa1404-0388-4545-cecc-1c8de2d24163"
      },
      "execution_count": null,
      "outputs": [
        {
          "output_type": "execute_result",
          "data": {
            "text/plain": [
              "0        The situation in Kahramanmaras proved civiliza...\n",
              "1        Please donate, like share RAISE AWARENESS THAT...\n",
              "2        Alhamdulilllah they are safe and sound â¤ï¸ ...\n",
              "3        @patagonia @fcdsurfboards Send the best warmes...\n",
              "4        Alhamdulillah ...A 10 day old baby was rescued...\n",
              "                               ...                        \n",
              "48078    Big earthquake felt throughout   just a few mo...\n",
              "48079    A powerful   just hit Metn area in Lebanon at ...\n",
              "48080      Volunteers Train For The Ukrainian Frontline...\n",
              "48081    ðThe   authorities have demanded the former...\n",
              "48082    ðThe   authorities have demanded the former...\n",
              "Name: clean_tweet, Length: 48081, dtype: object"
            ]
          },
          "metadata": {},
          "execution_count": 17
        }
      ]
    },
    {
      "cell_type": "code",
      "source": [
        "turkey['clean_tweet'] = turkey['clean_tweet'].apply(nfx.remove_multiple_spaces)"
      ],
      "metadata": {
        "id": "P_7EX56WW1ey"
      },
      "execution_count": null,
      "outputs": []
    },
    {
      "cell_type": "code",
      "source": [
        "turkey['clean_tweet'] = turkey['clean_tweet'].apply(nfx.remove_urls)"
      ],
      "metadata": {
        "id": "Uv1cxK1oW6GE"
      },
      "execution_count": null,
      "outputs": []
    },
    {
      "cell_type": "code",
      "source": [
        "turkey['clean_tweet'] = turkey['clean_tweet'].apply(nfx.remove_puncts)"
      ],
      "metadata": {
        "id": "B9p-D4YJW8zP"
      },
      "execution_count": null,
      "outputs": []
    },
    {
      "cell_type": "code",
      "source": [
        "turkey['clean_tweet'] = turkey['clean_tweet'].apply(nfx.remove_stopwords)"
      ],
      "metadata": {
        "id": "OgBJwVfAXAnw"
      },
      "execution_count": null,
      "outputs": []
    },
    {
      "cell_type": "code",
      "source": [
        "turkey['clean_tweet'] = turkey['clean_tweet'].apply(nfx.remove_special_characters)"
      ],
      "metadata": {
        "id": "sTCcgLYcXDTI"
      },
      "execution_count": null,
      "outputs": []
    },
    {
      "cell_type": "code",
      "source": [
        "turkey[['Tweet','clean_tweet']]"
      ],
      "metadata": {
        "colab": {
          "base_uri": "https://localhost:8080/",
          "height": 424
        },
        "id": "j3UVWU7BXFt9",
        "outputId": "fac1b36d-c06a-43ca-f62f-3fe3bb5ffcbe"
      },
      "execution_count": null,
      "outputs": [
        {
          "output_type": "execute_result",
          "data": {
            "text/plain": [
              "                                                   Tweet  \\\n",
              "0      The situation in Kahramanmaras proved civiliza...   \n",
              "1      Please donate, like share RAISE AWARENESS THAT...   \n",
              "2      Alhamdulilllah they are safe and sound â¤ï¸ ...   \n",
              "3      @patagonia @fcdsurfboards Send the best warmes...   \n",
              "4      Alhamdulillah ...A 10 day old baby was rescued...   \n",
              "...                                                  ...   \n",
              "48078  Big earthquake felt throughout #Lebanon just a...   \n",
              "48079  A powerful #earthquake just hit Metn area in L...   \n",
              "48080  #Turkish Volunteers Train For The Ukrainian Fr...   \n",
              "48081  ðThe #Turkish authorities have demanded the...   \n",
              "48082  ðThe #Turkish authorities have demanded the...   \n",
              "\n",
              "                                             clean_tweet  \n",
              "0      situation Kahramanmaras proved civilization fr...  \n",
              "1      donate like share RAISE AWARENESS KEY Literall...  \n",
              "2                             Alhamdulilllah safe sound   \n",
              "3      patagonia fcdsurfboards Send best warmest coat...  \n",
              "4      Alhamdulillah 10 day old baby rescued alive Tu...  \n",
              "...                                                  ...  \n",
              "48078  Big earthquake felt moments ago entire buildin...  \n",
              "48079  powerful hit Metn area Lebanon 0315 local time...  \n",
              "48080  Volunteers Train Ukrainian Frontlines group vo...  \n",
              "48081  The authorities demanded mayor southeastern pr...  \n",
              "48082  The authorities demanded mayor southeastern pr...  \n",
              "\n",
              "[48081 rows x 2 columns]"
            ],
            "text/html": [
              "\n",
              "  <div id=\"df-da33b8e8-8d34-4c9e-b51b-6b086926d91a\">\n",
              "    <div class=\"colab-df-container\">\n",
              "      <div>\n",
              "<style scoped>\n",
              "    .dataframe tbody tr th:only-of-type {\n",
              "        vertical-align: middle;\n",
              "    }\n",
              "\n",
              "    .dataframe tbody tr th {\n",
              "        vertical-align: top;\n",
              "    }\n",
              "\n",
              "    .dataframe thead th {\n",
              "        text-align: right;\n",
              "    }\n",
              "</style>\n",
              "<table border=\"1\" class=\"dataframe\">\n",
              "  <thead>\n",
              "    <tr style=\"text-align: right;\">\n",
              "      <th></th>\n",
              "      <th>Tweet</th>\n",
              "      <th>clean_tweet</th>\n",
              "    </tr>\n",
              "  </thead>\n",
              "  <tbody>\n",
              "    <tr>\n",
              "      <th>0</th>\n",
              "      <td>The situation in Kahramanmaras proved civiliza...</td>\n",
              "      <td>situation Kahramanmaras proved civilization fr...</td>\n",
              "    </tr>\n",
              "    <tr>\n",
              "      <th>1</th>\n",
              "      <td>Please donate, like share RAISE AWARENESS THAT...</td>\n",
              "      <td>donate like share RAISE AWARENESS KEY Literall...</td>\n",
              "    </tr>\n",
              "    <tr>\n",
              "      <th>2</th>\n",
              "      <td>Alhamdulilllah they are safe and sound â¤ï¸ ...</td>\n",
              "      <td>Alhamdulilllah safe sound</td>\n",
              "    </tr>\n",
              "    <tr>\n",
              "      <th>3</th>\n",
              "      <td>@patagonia @fcdsurfboards Send the best warmes...</td>\n",
              "      <td>patagonia fcdsurfboards Send best warmest coat...</td>\n",
              "    </tr>\n",
              "    <tr>\n",
              "      <th>4</th>\n",
              "      <td>Alhamdulillah ...A 10 day old baby was rescued...</td>\n",
              "      <td>Alhamdulillah 10 day old baby rescued alive Tu...</td>\n",
              "    </tr>\n",
              "    <tr>\n",
              "      <th>...</th>\n",
              "      <td>...</td>\n",
              "      <td>...</td>\n",
              "    </tr>\n",
              "    <tr>\n",
              "      <th>48078</th>\n",
              "      <td>Big earthquake felt throughout #Lebanon just a...</td>\n",
              "      <td>Big earthquake felt moments ago entire buildin...</td>\n",
              "    </tr>\n",
              "    <tr>\n",
              "      <th>48079</th>\n",
              "      <td>A powerful #earthquake just hit Metn area in L...</td>\n",
              "      <td>powerful hit Metn area Lebanon 0315 local time...</td>\n",
              "    </tr>\n",
              "    <tr>\n",
              "      <th>48080</th>\n",
              "      <td>#Turkish Volunteers Train For The Ukrainian Fr...</td>\n",
              "      <td>Volunteers Train Ukrainian Frontlines group vo...</td>\n",
              "    </tr>\n",
              "    <tr>\n",
              "      <th>48081</th>\n",
              "      <td>ðThe #Turkish authorities have demanded the...</td>\n",
              "      <td>The authorities demanded mayor southeastern pr...</td>\n",
              "    </tr>\n",
              "    <tr>\n",
              "      <th>48082</th>\n",
              "      <td>ðThe #Turkish authorities have demanded the...</td>\n",
              "      <td>The authorities demanded mayor southeastern pr...</td>\n",
              "    </tr>\n",
              "  </tbody>\n",
              "</table>\n",
              "<p>48081 rows × 2 columns</p>\n",
              "</div>\n",
              "      <button class=\"colab-df-convert\" onclick=\"convertToInteractive('df-da33b8e8-8d34-4c9e-b51b-6b086926d91a')\"\n",
              "              title=\"Convert this dataframe to an interactive table.\"\n",
              "              style=\"display:none;\">\n",
              "        \n",
              "  <svg xmlns=\"http://www.w3.org/2000/svg\" height=\"24px\"viewBox=\"0 0 24 24\"\n",
              "       width=\"24px\">\n",
              "    <path d=\"M0 0h24v24H0V0z\" fill=\"none\"/>\n",
              "    <path d=\"M18.56 5.44l.94 2.06.94-2.06 2.06-.94-2.06-.94-.94-2.06-.94 2.06-2.06.94zm-11 1L8.5 8.5l.94-2.06 2.06-.94-2.06-.94L8.5 2.5l-.94 2.06-2.06.94zm10 10l.94 2.06.94-2.06 2.06-.94-2.06-.94-.94-2.06-.94 2.06-2.06.94z\"/><path d=\"M17.41 7.96l-1.37-1.37c-.4-.4-.92-.59-1.43-.59-.52 0-1.04.2-1.43.59L10.3 9.45l-7.72 7.72c-.78.78-.78 2.05 0 2.83L4 21.41c.39.39.9.59 1.41.59.51 0 1.02-.2 1.41-.59l7.78-7.78 2.81-2.81c.8-.78.8-2.07 0-2.86zM5.41 20L4 18.59l7.72-7.72 1.47 1.35L5.41 20z\"/>\n",
              "  </svg>\n",
              "      </button>\n",
              "      \n",
              "  <style>\n",
              "    .colab-df-container {\n",
              "      display:flex;\n",
              "      flex-wrap:wrap;\n",
              "      gap: 12px;\n",
              "    }\n",
              "\n",
              "    .colab-df-convert {\n",
              "      background-color: #E8F0FE;\n",
              "      border: none;\n",
              "      border-radius: 50%;\n",
              "      cursor: pointer;\n",
              "      display: none;\n",
              "      fill: #1967D2;\n",
              "      height: 32px;\n",
              "      padding: 0 0 0 0;\n",
              "      width: 32px;\n",
              "    }\n",
              "\n",
              "    .colab-df-convert:hover {\n",
              "      background-color: #E2EBFA;\n",
              "      box-shadow: 0px 1px 2px rgba(60, 64, 67, 0.3), 0px 1px 3px 1px rgba(60, 64, 67, 0.15);\n",
              "      fill: #174EA6;\n",
              "    }\n",
              "\n",
              "    [theme=dark] .colab-df-convert {\n",
              "      background-color: #3B4455;\n",
              "      fill: #D2E3FC;\n",
              "    }\n",
              "\n",
              "    [theme=dark] .colab-df-convert:hover {\n",
              "      background-color: #434B5C;\n",
              "      box-shadow: 0px 1px 3px 1px rgba(0, 0, 0, 0.15);\n",
              "      filter: drop-shadow(0px 1px 2px rgba(0, 0, 0, 0.3));\n",
              "      fill: #FFFFFF;\n",
              "    }\n",
              "  </style>\n",
              "\n",
              "      <script>\n",
              "        const buttonEl =\n",
              "          document.querySelector('#df-da33b8e8-8d34-4c9e-b51b-6b086926d91a button.colab-df-convert');\n",
              "        buttonEl.style.display =\n",
              "          google.colab.kernel.accessAllowed ? 'block' : 'none';\n",
              "\n",
              "        async function convertToInteractive(key) {\n",
              "          const element = document.querySelector('#df-da33b8e8-8d34-4c9e-b51b-6b086926d91a');\n",
              "          const dataTable =\n",
              "            await google.colab.kernel.invokeFunction('convertToInteractive',\n",
              "                                                     [key], {});\n",
              "          if (!dataTable) return;\n",
              "\n",
              "          const docLinkHtml = 'Like what you see? Visit the ' +\n",
              "            '<a target=\"_blank\" href=https://colab.research.google.com/notebooks/data_table.ipynb>data table notebook</a>'\n",
              "            + ' to learn more about interactive tables.';\n",
              "          element.innerHTML = '';\n",
              "          dataTable['output_type'] = 'display_data';\n",
              "          await google.colab.output.renderOutput(dataTable, element);\n",
              "          const docLink = document.createElement('div');\n",
              "          docLink.innerHTML = docLinkHtml;\n",
              "          element.appendChild(docLink);\n",
              "        }\n",
              "      </script>\n",
              "    </div>\n",
              "  </div>\n",
              "  "
            ]
          },
          "metadata": {},
          "execution_count": 23
        }
      ]
    },
    {
      "cell_type": "code",
      "source": [
        "turkey['Score1'] = turkey['clean_tweet'].apply(get_emotion)"
      ],
      "metadata": {
        "id": "OJGNF4ZwXI9D"
      },
      "execution_count": null,
      "outputs": []
    },
    {
      "cell_type": "code",
      "source": [
        "turkey.head(5)"
      ],
      "metadata": {
        "colab": {
          "base_uri": "https://localhost:8080/",
          "height": 354
        },
        "id": "vxlgawccXPsc",
        "outputId": "56f6dfcd-9ddd-409a-a5bb-fbc2a3be13a5"
      },
      "execution_count": null,
      "outputs": [
        {
          "output_type": "execute_result",
          "data": {
            "text/plain": [
              "  Unnamed: 0                       Date      Time             user  \\\n",
              "0          0  2023-02-10 23:59:10+00:00  23:59:10   Jerusalem_Post   \n",
              "1          1  2023-02-10 23:58:58+00:00  23:58:58    Punnycatapult   \n",
              "2          2  2023-02-10 23:58:21+00:00  23:58:21  HosenMosharraf1   \n",
              "3          3  2023-02-10 23:58:19+00:00  23:58:19   TodaywithBenja   \n",
              "4          4  2023-02-10 23:58:19+00:00  23:58:19          ib_mohh   \n",
              "\n",
              "                                               Tweet  \\\n",
              "0  The situation in Kahramanmaras proved civiliza...   \n",
              "1  Please donate, like share RAISE AWARENESS THAT...   \n",
              "2  Alhamdulilllah they are safe and sound â¤ï¸ ...   \n",
              "3  @patagonia @fcdsurfboards Send the best warmes...   \n",
              "4  Alhamdulillah ...A 10 day old baby was rescued...   \n",
              "\n",
              "                                  extracted_hashtags  \\\n",
              "0                           [#TurkeySyriaEarthquake]   \n",
              "1  [#earthquaketurkey, #TurkeySyriaEarthquake, #T...   \n",
              "2  [#earthquaketurkey, #TurkeySyriaEarthquake, #H...   \n",
              "3                           [#TurkeySyriaEarthquake]   \n",
              "4  [#Florida, #Syria, #Hausa, #Joha, #Erica, #Qud...   \n",
              "\n",
              "                                         clean_tweet   Score1  \n",
              "0  situation Kahramanmaras proved civilization fr...  neutral  \n",
              "1  donate like share RAISE AWARENESS KEY Literall...    happy  \n",
              "2                         Alhamdulilllah safe sound     happy  \n",
              "3  patagonia fcdsurfboards Send best warmest coat...   joyful  \n",
              "4  Alhamdulillah 10 day old baby rescued alive Tu...   joyful  "
            ],
            "text/html": [
              "\n",
              "  <div id=\"df-a4bf9316-4a8b-45cc-8363-2ce040fdac74\">\n",
              "    <div class=\"colab-df-container\">\n",
              "      <div>\n",
              "<style scoped>\n",
              "    .dataframe tbody tr th:only-of-type {\n",
              "        vertical-align: middle;\n",
              "    }\n",
              "\n",
              "    .dataframe tbody tr th {\n",
              "        vertical-align: top;\n",
              "    }\n",
              "\n",
              "    .dataframe thead th {\n",
              "        text-align: right;\n",
              "    }\n",
              "</style>\n",
              "<table border=\"1\" class=\"dataframe\">\n",
              "  <thead>\n",
              "    <tr style=\"text-align: right;\">\n",
              "      <th></th>\n",
              "      <th>Unnamed: 0</th>\n",
              "      <th>Date</th>\n",
              "      <th>Time</th>\n",
              "      <th>user</th>\n",
              "      <th>Tweet</th>\n",
              "      <th>extracted_hashtags</th>\n",
              "      <th>clean_tweet</th>\n",
              "      <th>Score1</th>\n",
              "    </tr>\n",
              "  </thead>\n",
              "  <tbody>\n",
              "    <tr>\n",
              "      <th>0</th>\n",
              "      <td>0</td>\n",
              "      <td>2023-02-10 23:59:10+00:00</td>\n",
              "      <td>23:59:10</td>\n",
              "      <td>Jerusalem_Post</td>\n",
              "      <td>The situation in Kahramanmaras proved civiliza...</td>\n",
              "      <td>[#TurkeySyriaEarthquake]</td>\n",
              "      <td>situation Kahramanmaras proved civilization fr...</td>\n",
              "      <td>neutral</td>\n",
              "    </tr>\n",
              "    <tr>\n",
              "      <th>1</th>\n",
              "      <td>1</td>\n",
              "      <td>2023-02-10 23:58:58+00:00</td>\n",
              "      <td>23:58:58</td>\n",
              "      <td>Punnycatapult</td>\n",
              "      <td>Please donate, like share RAISE AWARENESS THAT...</td>\n",
              "      <td>[#earthquaketurkey, #TurkeySyriaEarthquake, #T...</td>\n",
              "      <td>donate like share RAISE AWARENESS KEY Literall...</td>\n",
              "      <td>happy</td>\n",
              "    </tr>\n",
              "    <tr>\n",
              "      <th>2</th>\n",
              "      <td>2</td>\n",
              "      <td>2023-02-10 23:58:21+00:00</td>\n",
              "      <td>23:58:21</td>\n",
              "      <td>HosenMosharraf1</td>\n",
              "      <td>Alhamdulilllah they are safe and sound â¤ï¸ ...</td>\n",
              "      <td>[#earthquaketurkey, #TurkeySyriaEarthquake, #H...</td>\n",
              "      <td>Alhamdulilllah safe sound</td>\n",
              "      <td>happy</td>\n",
              "    </tr>\n",
              "    <tr>\n",
              "      <th>3</th>\n",
              "      <td>3</td>\n",
              "      <td>2023-02-10 23:58:19+00:00</td>\n",
              "      <td>23:58:19</td>\n",
              "      <td>TodaywithBenja</td>\n",
              "      <td>@patagonia @fcdsurfboards Send the best warmes...</td>\n",
              "      <td>[#TurkeySyriaEarthquake]</td>\n",
              "      <td>patagonia fcdsurfboards Send best warmest coat...</td>\n",
              "      <td>joyful</td>\n",
              "    </tr>\n",
              "    <tr>\n",
              "      <th>4</th>\n",
              "      <td>4</td>\n",
              "      <td>2023-02-10 23:58:19+00:00</td>\n",
              "      <td>23:58:19</td>\n",
              "      <td>ib_mohh</td>\n",
              "      <td>Alhamdulillah ...A 10 day old baby was rescued...</td>\n",
              "      <td>[#Florida, #Syria, #Hausa, #Joha, #Erica, #Qud...</td>\n",
              "      <td>Alhamdulillah 10 day old baby rescued alive Tu...</td>\n",
              "      <td>joyful</td>\n",
              "    </tr>\n",
              "  </tbody>\n",
              "</table>\n",
              "</div>\n",
              "      <button class=\"colab-df-convert\" onclick=\"convertToInteractive('df-a4bf9316-4a8b-45cc-8363-2ce040fdac74')\"\n",
              "              title=\"Convert this dataframe to an interactive table.\"\n",
              "              style=\"display:none;\">\n",
              "        \n",
              "  <svg xmlns=\"http://www.w3.org/2000/svg\" height=\"24px\"viewBox=\"0 0 24 24\"\n",
              "       width=\"24px\">\n",
              "    <path d=\"M0 0h24v24H0V0z\" fill=\"none\"/>\n",
              "    <path d=\"M18.56 5.44l.94 2.06.94-2.06 2.06-.94-2.06-.94-.94-2.06-.94 2.06-2.06.94zm-11 1L8.5 8.5l.94-2.06 2.06-.94-2.06-.94L8.5 2.5l-.94 2.06-2.06.94zm10 10l.94 2.06.94-2.06 2.06-.94-2.06-.94-.94-2.06-.94 2.06-2.06.94z\"/><path d=\"M17.41 7.96l-1.37-1.37c-.4-.4-.92-.59-1.43-.59-.52 0-1.04.2-1.43.59L10.3 9.45l-7.72 7.72c-.78.78-.78 2.05 0 2.83L4 21.41c.39.39.9.59 1.41.59.51 0 1.02-.2 1.41-.59l7.78-7.78 2.81-2.81c.8-.78.8-2.07 0-2.86zM5.41 20L4 18.59l7.72-7.72 1.47 1.35L5.41 20z\"/>\n",
              "  </svg>\n",
              "      </button>\n",
              "      \n",
              "  <style>\n",
              "    .colab-df-container {\n",
              "      display:flex;\n",
              "      flex-wrap:wrap;\n",
              "      gap: 12px;\n",
              "    }\n",
              "\n",
              "    .colab-df-convert {\n",
              "      background-color: #E8F0FE;\n",
              "      border: none;\n",
              "      border-radius: 50%;\n",
              "      cursor: pointer;\n",
              "      display: none;\n",
              "      fill: #1967D2;\n",
              "      height: 32px;\n",
              "      padding: 0 0 0 0;\n",
              "      width: 32px;\n",
              "    }\n",
              "\n",
              "    .colab-df-convert:hover {\n",
              "      background-color: #E2EBFA;\n",
              "      box-shadow: 0px 1px 2px rgba(60, 64, 67, 0.3), 0px 1px 3px 1px rgba(60, 64, 67, 0.15);\n",
              "      fill: #174EA6;\n",
              "    }\n",
              "\n",
              "    [theme=dark] .colab-df-convert {\n",
              "      background-color: #3B4455;\n",
              "      fill: #D2E3FC;\n",
              "    }\n",
              "\n",
              "    [theme=dark] .colab-df-convert:hover {\n",
              "      background-color: #434B5C;\n",
              "      box-shadow: 0px 1px 3px 1px rgba(0, 0, 0, 0.15);\n",
              "      filter: drop-shadow(0px 1px 2px rgba(0, 0, 0, 0.3));\n",
              "      fill: #FFFFFF;\n",
              "    }\n",
              "  </style>\n",
              "\n",
              "      <script>\n",
              "        const buttonEl =\n",
              "          document.querySelector('#df-a4bf9316-4a8b-45cc-8363-2ce040fdac74 button.colab-df-convert');\n",
              "        buttonEl.style.display =\n",
              "          google.colab.kernel.accessAllowed ? 'block' : 'none';\n",
              "\n",
              "        async function convertToInteractive(key) {\n",
              "          const element = document.querySelector('#df-a4bf9316-4a8b-45cc-8363-2ce040fdac74');\n",
              "          const dataTable =\n",
              "            await google.colab.kernel.invokeFunction('convertToInteractive',\n",
              "                                                     [key], {});\n",
              "          if (!dataTable) return;\n",
              "\n",
              "          const docLinkHtml = 'Like what you see? Visit the ' +\n",
              "            '<a target=\"_blank\" href=https://colab.research.google.com/notebooks/data_table.ipynb>data table notebook</a>'\n",
              "            + ' to learn more about interactive tables.';\n",
              "          element.innerHTML = '';\n",
              "          dataTable['output_type'] = 'display_data';\n",
              "          await google.colab.output.renderOutput(dataTable, element);\n",
              "          const docLink = document.createElement('div');\n",
              "          docLink.innerHTML = docLinkHtml;\n",
              "          element.appendChild(docLink);\n",
              "        }\n",
              "      </script>\n",
              "    </div>\n",
              "  </div>\n",
              "  "
            ]
          },
          "metadata": {},
          "execution_count": 25
        }
      ]
    },
    {
      "cell_type": "code",
      "source": [
        "#calculating percentage of happy tweets\n",
        "happy=turkey[turkey['Score1']==\"happy\"]\n",
        "print(str(happy.shape[0]/(turkey.shape[0])*100)+\" % Happy Tweets\")\n",
        "Happy=happy.shape[0]/turkey.shape[0]*100"
      ],
      "metadata": {
        "colab": {
          "base_uri": "https://localhost:8080/"
        },
        "id": "G84ie9ZmdV-r",
        "outputId": "8be1dd52-34d3-4ea7-e41c-441d69caff3c"
      },
      "execution_count": null,
      "outputs": [
        {
          "output_type": "stream",
          "name": "stdout",
          "text": [
            "24.47328466546037 % Happy Tweets\n"
          ]
        }
      ]
    },
    {
      "cell_type": "code",
      "source": [
        "#calculating percentage of angry tweets\n",
        "angry=turkey[turkey['Score1']==\"angry\"]\n",
        "print(str(angry.shape[0]/(turkey.shape[0])*100)+\" % Angry Tweets\")\n",
        "Angry=angry.shape[0]/turkey.shape[0]*100"
      ],
      "metadata": {
        "colab": {
          "base_uri": "https://localhost:8080/"
        },
        "id": "30dQ3_aCdcFp",
        "outputId": "3561e6d8-fd31-474f-8721-b2d838ad5dcc"
      },
      "execution_count": null,
      "outputs": [
        {
          "output_type": "stream",
          "name": "stdout",
          "text": [
            "18.58738378985462 % Angry Tweets\n"
          ]
        }
      ]
    },
    {
      "cell_type": "code",
      "source": [
        "#calculating percentage of sad tweets\n",
        "sad=turkey[turkey['Score1']==\"sad\"]\n",
        "print(str(sad.shape[0]/(turkey.shape[0])*100)+\" % Sad Tweets\")\n",
        "Sad=sad.shape[0]/turkey.shape[0]*100"
      ],
      "metadata": {
        "colab": {
          "base_uri": "https://localhost:8080/"
        },
        "id": "Zp4ii_cPdfCa",
        "outputId": "75469d46-435c-42d5-c477-61f3c39b2104"
      },
      "execution_count": null,
      "outputs": [
        {
          "output_type": "stream",
          "name": "stdout",
          "text": [
            "15.82329818431397 % Sad Tweets\n"
          ]
        }
      ]
    },
    {
      "cell_type": "code",
      "source": [
        "#calculating percentage of joyful tweets\n",
        "joyful=turkey[turkey['Score1']==\"joyful\"]\n",
        "print(str(joyful.shape[0]/(turkey.shape[0])*100)+\" % Joyful Tweets\")\n",
        "Joyful=joyful.shape[0]/turkey.shape[0]*100"
      ],
      "metadata": {
        "colab": {
          "base_uri": "https://localhost:8080/"
        },
        "id": "7B56pdO9dh0D",
        "outputId": "7f476d2d-5c94-407c-e352-e0f4883a46cc"
      },
      "execution_count": null,
      "outputs": [
        {
          "output_type": "stream",
          "name": "stdout",
          "text": [
            "22.823984526112184 % Joyful Tweets\n"
          ]
        }
      ]
    },
    {
      "cell_type": "code",
      "source": [
        "#calculating percentage of neutral tweets\n",
        "neutral=turkey[turkey['Score1']==\"neutral\"]\n",
        "print(str(neutral.shape[0]/(turkey.shape[0])*100)+\" % Neutral Tweets\")\n",
        "Neutral=neutral.shape[0]/turkey.shape[0]*100"
      ],
      "metadata": {
        "colab": {
          "base_uri": "https://localhost:8080/"
        },
        "id": "0ItacCVadk2q",
        "outputId": "a1042e51-00ce-470b-f5e7-6c566c3ac8ba"
      },
      "execution_count": null,
      "outputs": [
        {
          "output_type": "stream",
          "name": "stdout",
          "text": [
            "18.292048834258857 % Neutral Tweets\n"
          ]
        }
      ]
    },
    {
      "cell_type": "code",
      "source": [
        "# Pie chart\n",
        "\n",
        "labels = ['Angry', 'Neutral', 'Happy', 'Sad', 'Joyful']\n",
        "sizes = [Angry, Neutral, Happy, Sad, Joyful]\n",
        "colors = ['#ff9999','#66b3ff','#99ff99','#ffcccc','#99ff99']\n",
        "explode = (0, 0, 0.1, 0, 0)  # only \"explode\" the 3rd slice (Happy)\n",
        "\n",
        "fig1, ax1 = plt.subplots(figsize=(10, 10))\n",
        "ax1.pie(sizes, explode=explode, labels=labels, colors=colors, autopct='%1.1f%%',\n",
        "        shadow=True, startangle=0)\n",
        "ax1.axis('equal')\n",
        "plt.xlabel(\"Sentiments\")\n",
        "#plt.ylabel(\"Percentage\")\n",
        "plt.title(\"Sentiment Analysis on Turkey Earthquake\", fontweight='bold')\n",
        "plt.legend(title='Sentiment', labels=labels, loc=\"upper left\", bbox_to_anchor=(1,1), fontsize=12)\n",
        "plt.show()"
      ],
      "metadata": {
        "colab": {
          "base_uri": "https://localhost:8080/",
          "height": 605
        },
        "id": "wjC8UKQMdoDU",
        "outputId": "b743d016-3f02-4952-fc51-3d2cd0db05a4"
      },
      "execution_count": null,
      "outputs": [
        {
          "output_type": "display_data",
          "data": {
            "text/plain": [
              "<Figure size 720x720 with 1 Axes>"
            ],
            "image/png": "[encoded data removed]"
          },
          "metadata": {}
        }
      ]
    },
    {
      "cell_type": "code",
      "source": [
        "#bar chart\n",
        "\n",
        "labels = turkey.groupby('Score1').count().index.values #(how many values fall in happy cateogery)\n",
        "values = turkey.groupby('Score1').size().values #sizes(happy,depressed,neutral)\n",
        "plt.bar(labels,values)"
      ],
      "metadata": {
        "colab": {
          "base_uri": "https://localhost:8080/",
          "height": 282
        },
        "id": "9cCAYgkhd0To",
        "outputId": "ea0b55d7-3d46-4888-d35d-14f31df9a446"
      },
      "execution_count": null,
      "outputs": [
        {
          "output_type": "execute_result",
          "data": {
            "text/plain": [
              "<BarContainer object of 5 artists>"
            ]
          },
          "metadata": {},
          "execution_count": 32
        },
        {
          "output_type": "display_data",
          "data": {
            "text/plain": [
              "<Figure size 432x288 with 1 Axes>"
            ],
            "image/png": "[encoded data removed]"
          },
          "metadata": {
            "needs_background": "light"
          }
        }
      ]
    },
    {
      "cell_type": "code",
      "source": [
        "from sklearn.model_selection import train_test_split"
      ],
      "metadata": {
        "id": "PXbg4r-yd8zh"
      },
      "execution_count": null,
      "outputs": []
    },
    {
      "cell_type": "code",
      "source": [
        "train_data, test_data = train_test_split(turkey, test_size=0.3, random_state=42)"
      ],
      "metadata": {
        "id": "UvxKnHAPeCKn"
      },
      "execution_count": null,
      "outputs": []
    },
    {
      "cell_type": "code",
      "source": [
        "test_data['predicted'] = test_data['clean_tweet'].apply(get_emotion)"
      ],
      "metadata": {
        "id": "GjvxGHrZeHTR"
      },
      "execution_count": null,
      "outputs": []
    },
    {
      "cell_type": "code",
      "source": [
        "from sklearn.metrics import accuracy_score\n",
        "score = accuracy_score(test_data['Score1'], test_data['predicted'])\n",
        "print(\"Accuracy: \", score)"
      ],
      "metadata": {
        "colab": {
          "base_uri": "https://localhost:8080/"
        },
        "id": "eoIMX36JeVs1",
        "outputId": "4a8ad9de-5afb-453f-899d-fbdb237b527b"
      },
      "execution_count": null,
      "outputs": [
        {
          "output_type": "stream",
          "name": "stdout",
          "text": [
            "Accuracy:  1.0\n"
          ]
        }
      ]
    }
  ]
}